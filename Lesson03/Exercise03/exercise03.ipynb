{
  "nbformat": 4,
  "nbformat_minor": 0,
  "metadata": {
    "kernelspec": {
      "display_name": "Python 3",
      "language": "python",
      "name": "python3"
    },
    "language_info": {
      "codemirror_mode": {
        "name": "ipython",
        "version": 3
      },
      "file_extension": ".py",
      "mimetype": "text/x-python",
      "name": "python",
      "nbconvert_exporter": "python",
      "pygments_lexer": "ipython3",
      "version": "3.7.1"
    },
    "colab": {
      "name": "exercise03.ipynb",
      "provenance": [],
      "include_colab_link": true
    }
  },
  "cells": [
    {
      "cell_type": "markdown",
      "metadata": {
        "id": "view-in-github",
        "colab_type": "text"
      },
      "source": [
        "<a href=\"https://colab.research.google.com/github/webobite/Data-Visualization-with-Python/blob/master/Lesson03/Exercise03/exercise03.ipynb\" target=\"_parent\"><img src=\"https://colab.research.google.com/assets/colab-badge.svg\" alt=\"Open In Colab\"/></a>"
      ]
    },
    {
      "cell_type": "markdown",
      "metadata": {
        "id": "nQCuRQOsG0Tq",
        "colab_type": "text"
      },
      "source": [
        "## Creating a simple visualization."
      ]
    },
    {
      "cell_type": "markdown",
      "metadata": {
        "id": "OZ00DAkhG0Ts",
        "colab_type": "text"
      },
      "source": [
        "In this exercise, we will create our first simple plot using Matplotlib."
      ]
    },
    {
      "cell_type": "markdown",
      "metadata": {
        "id": "WU9wM759G0Tv",
        "colab_type": "text"
      },
      "source": [
        "#### Import statements"
      ]
    },
    {
      "cell_type": "markdown",
      "metadata": {
        "id": "MutIFv3iG0Tw",
        "colab_type": "text"
      },
      "source": [
        "Import the necessary modules and enable plotting within a jupyter notebook."
      ]
    },
    {
      "cell_type": "code",
      "metadata": {
        "id": "5ePrgsbpG0Ty",
        "colab_type": "code",
        "colab": {}
      },
      "source": [
        "import numpy as np\n",
        "import matplotlib.pyplot as plt\n",
        "%matplotlib inline"
      ],
      "execution_count": 0,
      "outputs": []
    },
    {
      "cell_type": "markdown",
      "metadata": {
        "id": "aC9XjO-NG0T8",
        "colab_type": "text"
      },
      "source": [
        "#### Creating a figure"
      ]
    },
    {
      "cell_type": "markdown",
      "metadata": {
        "id": "xQWibQQBG0T9",
        "colab_type": "text"
      },
      "source": [
        "Explicitly create a figure and set the dpi to 200."
      ]
    },
    {
      "cell_type": "code",
      "metadata": {
        "id": "G647XAlgG0T_",
        "colab_type": "code",
        "colab": {
          "base_uri": "https://localhost:8080/",
          "height": 52
        },
        "outputId": "796ff985-1315-4d71-93b2-682f58e0376e"
      },
      "source": [
        "plt.figure(dpi=200)"
      ],
      "execution_count": 2,
      "outputs": [
        {
          "output_type": "execute_result",
          "data": {
            "text/plain": [
              "<Figure size 1200x800 with 0 Axes>"
            ]
          },
          "metadata": {
            "tags": []
          },
          "execution_count": 2
        },
        {
          "output_type": "display_data",
          "data": {
            "text/plain": [
              "<Figure size 1200x800 with 0 Axes>"
            ]
          },
          "metadata": {
            "tags": []
          }
        }
      ]
    },
    {
      "cell_type": "markdown",
      "metadata": {
        "id": "CdaISImNG0UF",
        "colab_type": "text"
      },
      "source": [
        "#### Plotting data pairs"
      ]
    },
    {
      "cell_type": "markdown",
      "metadata": {
        "id": "Hu_-3WRfG0UG",
        "colab_type": "text"
      },
      "source": [
        "Plot the following data pairs (x, y) as circles, which are connected via line segments: (1, 1), (2, 3), (4, 4), (5, 3). Visualize the plot."
      ]
    },
    {
      "cell_type": "code",
      "metadata": {
        "id": "kcsMZ1XeG0UH",
        "colab_type": "code",
        "colab": {
          "base_uri": "https://localhost:8080/",
          "height": 279
        },
        "outputId": "54763f2c-9736-4572-dfff-3bbc70319038"
      },
      "source": [
        "plt.plot([1,2,4, 5], [1, 3, 4, 3], '-o', label = 'Label 1')\n",
        "plt.plot([1, 2, 3, 4], [5,6, 7, 8], '-o', label = 'Label 2')\n",
        "plt.xlabel('X Label')\n",
        "plt.ylabel('Y Label')\n",
        "plt.annotate('Example of Annotate', xy=(2,3), xytext=(3,2), arrowprops=dict(facecolor='green', shrink=0.05))\n",
        "plt.legend()\n",
        "plt.grid()\n",
        "plt.show()"
      ],
      "execution_count": 28,
      "outputs": [
        {
          "output_type": "display_data",
          "data": {
            "image/png": "[encoded data removed]",
            "text/plain": [
              "<Figure size 432x288 with 1 Axes>"
            ]
          },
          "metadata": {
            "tags": [],
            "needs_background": "light"
          }
        }
      ]
    },
    {
      "cell_type": "code",
      "metadata": {
        "id": "AOADMz9fHTAL",
        "colab_type": "code",
        "colab": {}
      },
      "source": [
        "# plt.savefig(exercise03.png);"
      ],
      "execution_count": 0,
      "outputs": []
    },
    {
      "cell_type": "code",
      "metadata": {
        "id": "jLVIE_o1Hdc-",
        "colab_type": "code",
        "colab": {}
      },
      "source": [
        ""
      ],
      "execution_count": 0,
      "outputs": []
    }
  ]
}