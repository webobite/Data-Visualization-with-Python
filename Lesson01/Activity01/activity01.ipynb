{
  "nbformat": 4,
  "nbformat_minor": 0,
  "metadata": {
    "kernelspec": {
      "display_name": "Python 3",
      "language": "python",
      "name": "python3"
    },
    "language_info": {
      "codemirror_mode": {
        "name": "ipython",
        "version": 3
      },
      "file_extension": ".py",
      "mimetype": "text/x-python",
      "name": "python",
      "nbconvert_exporter": "python",
      "pygments_lexer": "ipython3",
      "version": "3.7.0"
    },
    "colab": {
      "name": "activity01.ipynb",
      "provenance": []
    }
  },
  "cells": [
    {
      "cell_type": "markdown",
      "metadata": {
        "id": "EYt03dZZ46vN",
        "colab_type": "text"
      },
      "source": [
        "## Activity 01: Use NumPy to compute the Mean, Median, and Variance"
      ]
    },
    {
      "cell_type": "markdown",
      "metadata": {
        "id": "BUIyNstX46vO",
        "colab_type": "text"
      },
      "source": [
        "In this activity, you will consolidate the skills you've acquired in the last exercise and use NumPy to do some very basic mathematical calculations on our `normal_distribution` dataset.   \n",
        "NumPy has a consistent API, so it should be rather easy to transfer your knowledge of the mean method to median and variance. "
      ]
    },
    {
      "cell_type": "markdown",
      "metadata": {
        "id": "jQl4g7AP46vQ",
        "colab_type": "text"
      },
      "source": [
        "#### Loading the dataset"
      ]
    },
    {
      "cell_type": "code",
      "metadata": {
        "id": "X0NkO5Hd46vT",
        "colab_type": "code",
        "colab": {}
      },
      "source": [
        "# importing the necessary dependencies\n",
        "import numpy as np"
      ],
      "execution_count": 0,
      "outputs": []
    },
    {
      "cell_type": "code",
      "metadata": {
        "id": "oc2Pcj1E46vd",
        "colab_type": "code",
        "colab": {}
      },
      "source": [
        "# loading the Dataset\n",
        "dataset = np.genfromtxt('https://raw.githubusercontent.com/webobite/Data-Visualization-with-Python/master/Lesson01/Activity01/data/normal_distribution.csv', delimiter=',')"
      ],
      "execution_count": 0,
      "outputs": []
    },
    {
      "cell_type": "code",
      "metadata": {
        "id": "gKXlI2vJ46vi",
        "colab_type": "code",
        "colab": {
          "base_uri": "https://localhost:8080/",
          "height": 86
        },
        "outputId": "98ed3acf-c88b-4a3e-d714-b4aa455fd381"
      },
      "source": [
        "# looking at the first two rows of the dataset\n",
        "dataset[[0, 8]]"
      ],
      "execution_count": 10,
      "outputs": [
        {
          "output_type": "execute_result",
          "data": {
            "text/plain": [
              "array([[ 99.14931546, 104.03852715, 107.43534677,  97.85230675,\n",
              "         98.74986914,  98.80833412,  96.81964892,  98.56783189],\n",
              "       [105.30350449,  92.87730812, 103.19258339, 104.40518318,\n",
              "        101.29326772, 100.85447132, 101.2226037 , 106.03868807]])"
            ]
          },
          "metadata": {
            "tags": []
          },
          "execution_count": 10
        }
      ]
    },
    {
      "cell_type": "markdown",
      "metadata": {
        "id": "aTjZTu7Z46vn",
        "colab_type": "text"
      },
      "source": [
        "---"
      ]
    },
    {
      "cell_type": "markdown",
      "metadata": {
        "id": "C7qZ7PER46vp",
        "colab_type": "text"
      },
      "source": [
        "#### Mean"
      ]
    },
    {
      "cell_type": "code",
      "metadata": {
        "id": "I-fE2dQx46vp",
        "colab_type": "code",
        "colab": {}
      },
      "source": [
        "# calculate the mean of the third row\n"
      ],
      "execution_count": 0,
      "outputs": []
    },
    {
      "cell_type": "code",
      "metadata": {
        "id": "deco3JrG46vv",
        "colab_type": "code",
        "colab": {}
      },
      "source": [
        "# calculate the mean of the last column\n"
      ],
      "execution_count": 0,
      "outputs": []
    },
    {
      "cell_type": "code",
      "metadata": {
        "id": "CskKcQe346v1",
        "colab_type": "code",
        "colab": {}
      },
      "source": [
        "# calculate the mean of the intersection of the first 3 rows and first 3 columns\n"
      ],
      "execution_count": 0,
      "outputs": []
    },
    {
      "cell_type": "markdown",
      "metadata": {
        "id": "ZAVvZTsI46v4",
        "colab_type": "text"
      },
      "source": [
        "---"
      ]
    },
    {
      "cell_type": "markdown",
      "metadata": {
        "id": "jWgU3ZcI46v6",
        "colab_type": "text"
      },
      "source": [
        "#### Median"
      ]
    },
    {
      "cell_type": "code",
      "metadata": {
        "id": "XTMtVKeG46v6",
        "colab_type": "code",
        "colab": {}
      },
      "source": [
        "# calculate the median of the last row\n"
      ],
      "execution_count": 0,
      "outputs": []
    },
    {
      "cell_type": "code",
      "metadata": {
        "id": "6rmcNfto46v-",
        "colab_type": "code",
        "colab": {}
      },
      "source": [
        "# calculate the median of the last 3 columns\n"
      ],
      "execution_count": 0,
      "outputs": []
    },
    {
      "cell_type": "code",
      "metadata": {
        "id": "FM-L_YDd46wC",
        "colab_type": "code",
        "colab": {}
      },
      "source": [
        "# calculate the median of each row\n"
      ],
      "execution_count": 0,
      "outputs": []
    },
    {
      "cell_type": "markdown",
      "metadata": {
        "id": "uX0fgpaY46wF",
        "colab_type": "text"
      },
      "source": [
        "---"
      ]
    },
    {
      "cell_type": "markdown",
      "metadata": {
        "id": "plHaHAnA46wH",
        "colab_type": "text"
      },
      "source": [
        "#### Variance"
      ]
    },
    {
      "cell_type": "code",
      "metadata": {
        "id": "aU4Dykne46wH",
        "colab_type": "code",
        "colab": {}
      },
      "source": [
        "# calculate the variance of each column\n"
      ],
      "execution_count": 0,
      "outputs": []
    },
    {
      "cell_type": "code",
      "metadata": {
        "id": "cQlNZvav46wO",
        "colab_type": "code",
        "colab": {}
      },
      "source": [
        "# calculate the variance of the intersection of the last 2 rows and first 2 columns\n"
      ],
      "execution_count": 0,
      "outputs": []
    },
    {
      "cell_type": "markdown",
      "metadata": {
        "id": "F8otLyj946wT",
        "colab_type": "text"
      },
      "source": [
        "The values of the variance might seem a little bit strange at first.   \n",
        "You can always go back to the topic that gives you a quick statistical overview to recap what you've learned so far.   \n",
        "\n",
        "> **Note:**   \n",
        "Just remember, the variance is not the standard deviation.   \n",
        "\n",
        "Try calculation the standard deviation with NumPy to get a more descriptive value when comparing it to our dataset"
      ]
    },
    {
      "cell_type": "code",
      "metadata": {
        "id": "AnQP1NBR46wU",
        "colab_type": "code",
        "colab": {}
      },
      "source": [
        "# calculate the standard deviation for the dataset\n"
      ],
      "execution_count": 0,
      "outputs": []
    }
  ]
}